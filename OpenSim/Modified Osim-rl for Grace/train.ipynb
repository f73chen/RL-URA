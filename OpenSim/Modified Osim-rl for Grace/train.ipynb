{
 "cells": [
  {
   "cell_type": "code",
   "execution_count": 2,
   "id": "3b514472",
   "metadata": {},
   "outputs": [],
   "source": [
    "import os\n",
    "import time\n",
    "\n",
    "import opensim\n",
    "import gym\n",
    "import pybullet_envs\n",
    "import numpy as np\n",
    "import torch as th\n",
    "import matplotlib.pyplot as plt\n",
    "\n",
    "from stable_baselines3 import PPO\n",
    "from stable_baselines3.common.policies import ActorCriticPolicy\n",
    "from stable_baselines3.common.callbacks import EvalCallback\n",
    "from stable_baselines3.common.vec_env import DummyVecEnv, SubprocVecEnv\n",
    "\n",
    "from osim.env.osimMod36d import L2RunEnvMod"
   ]
  },
  {
   "cell_type": "code",
   "execution_count": 3,
   "id": "828bd958",
   "metadata": {},
   "outputs": [],
   "source": [
    "params = {'reward_weight': [6.0, 1.0, 1.0, 0.4, 0.0, 1.0, 1.0, 0.0, 0.5, 1.0],\n",
    "          #['forward', 'survival', 'torso', 'joint', 'stability', 'act', 'footstep', 'jerk', 'slide']\n",
    "          'action_limit': [1]*18,\n",
    "          'time_limit': 10,\n",
    "          'stepsize': 0.01,\n",
    "          'integrator_accuracy': 5e-3,\n",
    "          'seed': 0,\n",
    "          'num_cpu': 12,\n",
    "          'lr_a1': 1.0e-4,\n",
    "          'lr_a2': 2, \n",
    "          'target_speed_range': [0.8,1.2],\n",
    "          'total_timesteps': 800}\n",
    "\n",
    "v = \"v1\"\n",
    "d = \"muscle\"\n",
    "log_path = f\"{d}/muscle_log_{v}/\"\n",
    "\n",
    "def learning_rate(frac):\n",
    "    return 1.0e-4*(np.exp(6*(frac-1)))\n",
    "\n",
    "def own_policy(obs):\n",
    "    action = np.zeros(18)\n",
    "    return action"
   ]
  },
  {
   "cell_type": "code",
   "execution_count": 4,
   "id": "30127852",
   "metadata": {},
   "outputs": [
    {
     "name": "stderr",
     "output_type": "stream",
     "text": [
      "C:\\Users\\User\\anaconda3\\envs\\notebook\\lib\\site-packages\\gym\\logger.py:30: UserWarning: \u001b[33mWARN: Box bound precision lowered by casting to float32\u001b[0m\n",
      "  warnings.warn(colorize('%s: %s'%('WARN', msg % args), 'yellow'))\n"
     ]
    }
   ],
   "source": [
    "# dir_path = os.path.dirname(os.path.realpath(__file__))\n",
    "# traj_path = dir_path + \"\\\\\" + \"tracking_solution_fullStride.sto\"\n",
    "traj_path = \"tracking_solution_fullStride.sto\"\n",
    "\n",
    "env = L2RunEnvMod(reward_weight=params['reward_weight'],\n",
    "                  action_limit=params['action_limit'],\n",
    "                  target_speed_range=params['target_speed_range'],\n",
    "                  own_policy=own_policy,\n",
    "                  visualize=True, \n",
    "                  traj_path=traj_path)"
   ]
  },
  {
   "cell_type": "code",
   "execution_count": null,
   "id": "43a1d686",
   "metadata": {},
   "outputs": [],
   "source": [
    "obs = env.reset()"
   ]
  },
  {
   "cell_type": "code",
   "execution_count": 1,
   "id": "78a5d6c8",
   "metadata": {},
   "outputs": [
    {
     "ename": "NameError",
     "evalue": "name 'th' is not defined",
     "output_type": "error",
     "traceback": [
      "\u001b[1;31m---------------------------------------------------------------------------\u001b[0m",
      "\u001b[1;31mNameError\u001b[0m                                 Traceback (most recent call last)",
      "\u001b[1;32m<ipython-input-1-71d66787c3fc>\u001b[0m in \u001b[0;36m<module>\u001b[1;34m()\u001b[0m\n\u001b[1;32m----> 1\u001b[1;33m policy_kwargs = dict(activation_fn=th.nn.Tanh,\n\u001b[0m\u001b[0;32m      2\u001b[0m                      net_arch=[dict(vf=[256,256,256], pi=[256,256,256,12])])     # v=6\n\u001b[0;32m      3\u001b[0m \u001b[0mmodel\u001b[0m \u001b[1;33m=\u001b[0m \u001b[0mPPO\u001b[0m\u001b[1;33m(\u001b[0m\u001b[1;34m'MlpPolicy'\u001b[0m\u001b[1;33m,\u001b[0m \u001b[0menv\u001b[0m\u001b[1;33m,\u001b[0m \u001b[0mverbose\u001b[0m\u001b[1;33m=\u001b[0m\u001b[1;36m0\u001b[0m\u001b[1;33m,\u001b[0m \u001b[0mpolicy_kwargs\u001b[0m\u001b[1;33m=\u001b[0m\u001b[0mpolicy_kwargs\u001b[0m\u001b[1;33m,\u001b[0m \u001b[0mlearning_rate\u001b[0m\u001b[1;33m=\u001b[0m\u001b[0mlearning_rate\u001b[0m\u001b[1;33m,\u001b[0m \u001b[0mn_steps\u001b[0m\u001b[1;33m=\u001b[0m\u001b[1;36m128\u001b[0m\u001b[1;33m,\u001b[0m \u001b[0mtensorboard_log\u001b[0m\u001b[1;33m=\u001b[0m\u001b[0mlog_path\u001b[0m\u001b[1;33m)\u001b[0m\u001b[1;33m\u001b[0m\u001b[0m\n\u001b[0;32m      4\u001b[0m \u001b[0mmodel\u001b[0m\u001b[1;33m.\u001b[0m\u001b[0mlearn\u001b[0m\u001b[1;33m(\u001b[0m\u001b[0mtotal_timesteps\u001b[0m\u001b[1;33m=\u001b[0m\u001b[0mparams\u001b[0m\u001b[1;33m[\u001b[0m\u001b[1;34m'total_timesteps'\u001b[0m\u001b[1;33m]\u001b[0m\u001b[1;33m)\u001b[0m\u001b[1;33m\u001b[0m\u001b[0m\n\u001b[0;32m      5\u001b[0m \u001b[1;33m\u001b[0m\u001b[0m\n",
      "\u001b[1;31mNameError\u001b[0m: name 'th' is not defined"
     ]
    }
   ],
   "source": [
    "policy_kwargs = dict(activation_fn=th.nn.Tanh,\n",
    "                     net_arch=[dict(vf=[256,256,256], pi=[256,256,256,12])])     # v=6\n",
    "model = PPO('MlpPolicy', env, verbose=0, policy_kwargs=policy_kwargs, learning_rate=learning_rate, n_steps=128, tensorboard_log=log_path)\n",
    "model.learn(total_timesteps=params['total_timesteps'])\n",
    "\n",
    "# Test saving and loading\n",
    "model.save(f\"{d}/muscle_l{v}\")\n",
    "del model"
   ]
  },
  {
   "cell_type": "code",
   "execution_count": null,
   "id": "cc142b8e",
   "metadata": {},
   "outputs": [],
   "source": [
    "model = PPO.load(f\"{d}/muscle_l{v}\", env = env)\n",
    "obs = env.reset()\n",
    "for i in range(1000):\n",
    "    action, _state = model.predict(obs, deterministic=False)\n",
    "    # print(action)\n",
    "    obs, reward, done, info = env.step(action)\n",
    "    if done:\n",
    "        obs = env.reset()"
   ]
  },
  {
   "cell_type": "code",
   "execution_count": null,
   "id": "55bb5543",
   "metadata": {},
   "outputs": [],
   "source": [
    "# for i in range(100):\n",
    "#     o, r, d, i = env.step(np.zeros(18))"
   ]
  },
  {
   "cell_type": "code",
   "execution_count": null,
   "id": "4625b243",
   "metadata": {},
   "outputs": [],
   "source": []
  }
 ],
 "metadata": {
  "kernelspec": {
   "display_name": "Python 3",
   "language": "python",
   "name": "python3"
  },
  "language_info": {
   "codemirror_mode": {
    "name": "ipython",
    "version": 3
   },
   "file_extension": ".py",
   "mimetype": "text/x-python",
   "name": "python",
   "nbconvert_exporter": "python",
   "pygments_lexer": "ipython3",
   "version": "3.6.1"
  }
 },
 "nbformat": 4,
 "nbformat_minor": 5
}
