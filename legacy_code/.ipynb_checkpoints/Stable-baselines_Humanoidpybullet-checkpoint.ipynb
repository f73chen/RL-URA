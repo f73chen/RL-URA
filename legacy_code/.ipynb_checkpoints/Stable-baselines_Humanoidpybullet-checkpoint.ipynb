{
 "cells": [
  {
   "cell_type": "code",
   "execution_count": 1,
   "metadata": {},
   "outputs": [
    {
     "ename": "ModuleNotFoundError",
     "evalue": "No module named 'pybullet_envs'",
     "output_type": "error",
     "traceback": [
      "\u001b[1;31m---------------------------------------------------------------------------\u001b[0m",
      "\u001b[1;31mModuleNotFoundError\u001b[0m                       Traceback (most recent call last)",
      "\u001b[1;32m<ipython-input-1-8330348c578b>\u001b[0m in \u001b[0;36m<module>\u001b[1;34m\u001b[0m\n\u001b[0;32m      2\u001b[0m \u001b[1;33m\u001b[0m\u001b[0m\n\u001b[0;32m      3\u001b[0m \u001b[1;32mimport\u001b[0m \u001b[0mgym\u001b[0m\u001b[1;33m\u001b[0m\u001b[0m\n\u001b[1;32m----> 4\u001b[1;33m \u001b[1;32mimport\u001b[0m \u001b[0mpybullet_envs\u001b[0m\u001b[1;33m\u001b[0m\u001b[0m\n\u001b[0m\u001b[0;32m      5\u001b[0m \u001b[1;32mimport\u001b[0m \u001b[0mnumpy\u001b[0m \u001b[1;32mas\u001b[0m \u001b[0mnp\u001b[0m\u001b[1;33m\u001b[0m\u001b[0m\n\u001b[0;32m      6\u001b[0m \u001b[1;32mimport\u001b[0m \u001b[0mmatplotlib\u001b[0m\u001b[1;33m.\u001b[0m\u001b[0mpyplot\u001b[0m \u001b[1;32mas\u001b[0m \u001b[0mplt\u001b[0m\u001b[1;33m\u001b[0m\u001b[0m\n",
      "\u001b[1;31mModuleNotFoundError\u001b[0m: No module named 'pybullet_envs'"
     ]
    }
   ],
   "source": [
    "import os\n",
    "\n",
    "import gym\n",
    "import pybullet_envs\n",
    "import numpy as np\n",
    "import matplotlib.pyplot as plt\n",
    "import tensorflow as tf\n",
    "\n",
    "from IPython.display import clear_output, display\n",
    "\n",
    "from stable_baselines.a2c.utils import ortho_init\n",
    "from stable_baselines.common.policies import MlpPolicy, ActorCriticPolicy # register_policy\n",
    "from stable_baselines.common.vec_env import DummyVecEnv, SubprocVecEnv\n",
    "from stable_baselines.common import set_global_seeds\n",
    "from stable_baselines import PPO2\n",
    "from stable_baselines.bench import Monitor\n",
    "from stable_baselines.results_plotter import load_results, ts2xy"
   ]
  },
  {
   "cell_type": "code",
   "execution_count": 2,
   "metadata": {},
   "outputs": [],
   "source": [
    "log_dir = \"tmp/gym/humanoid_pybullet/log/\"\n",
    "archive_dir = \"tmp/gym/humanoid_pybullet/archive/\""
   ]
  },
  {
   "cell_type": "markdown",
   "metadata": {},
   "source": [
    "#### Step 1: Set up wrapper, multiprocessing, and callback\n",
    "- Wrapper tutorial: https://hub.packtpub.com/openai-gym-environments-wrappers-and-monitors-tutorial/"
   ]
  },
  {
   "cell_type": "code",
   "execution_count": 3,
   "metadata": {},
   "outputs": [],
   "source": [
    "# Set up Wrapper\n",
    "from gym import RewardWrapper\n",
    "\n",
    "class ModifyReward(RewardWrapper):\n",
    "    def __init__(self, env):\n",
    "        super(ModifyReward, self).__init__(env)\n",
    "\n",
    "    def reward(self, reward):\n",
    "        return reward\n",
    "    \n",
    "##########################################################################################\n",
    "# Set up multiprocessing\n",
    "def make_env(env_id, rank, seed=0):\n",
    "    \"\"\"\n",
    "    Utility function for multiprocessed env.\n",
    "    \n",
    "    :param env_id: (str) the environment ID\n",
    "    :param num_env: (int) the number of environment you wish to have in subprocesses \n",
    "    :param seed: (int) the inital seed for RNG\n",
    "    :param rank: (int) index of the subprocess\n",
    "    \"\"\"\n",
    "    \n",
    "    def _init():\n",
    "        env = ModifyReward(gym.make(env_id))\n",
    "        log_sub_dir = log_dir + '/env_{}'.format(str(rank))\n",
    "        os.makedirs(log_sub_dir, exist_ok=True)\n",
    "        env = Monitor(env, log_sub_dir, allow_early_resets=True)\n",
    "        env.seed(seed + rank)\n",
    "        return env\n",
    "    set_global_seeds(seed)\n",
    "    return _init\n",
    "\n",
    "##########################################################################################\n",
    "# Set up callback\n",
    "best_mean_reward, n_steps = -np.inf, 0\n",
    "\n",
    "def extract_xy(log_dir):\n",
    "    \"\"\"\n",
    "    extract the # time steps and avg reward\n",
    "    :param x: (int) # of time steps\n",
    "    :param y: (float) average rewards\n",
    "    \"\"\"\n",
    "    num_folder = 0\n",
    "    x = 0\n",
    "    y = []\n",
    "    for folder in os.listdir(log_dir):\n",
    "        if 'env' in folder:\n",
    "            x_tmp, y_tmp = ts2xy(load_results(log_dir+folder), 'timesteps')\n",
    "            if len(x_tmp) > 0:\n",
    "                y.extend(list(y_tmp[-10:]))\n",
    "                if x_tmp[-1] > x:\n",
    "                    x = x_tmp[-1]\n",
    "    y = sum(y)/len(y) if len(y) > 0 else -np.inf \n",
    "    return x, y\n",
    "\n",
    "def callback(_locals, _globals):\n",
    "    \"\"\"\n",
    "    Callback called at each step (for DQN an others) or after n steps (see ACER or PPO2)\n",
    "    :param _locals: (dict)\n",
    "    :param _globals: (dict)\n",
    "    \"\"\"\n",
    "    global n_steps, best_mean_reward\n",
    "    # Print stats every 2 calls\n",
    "    if (n_steps + 1) % 2 == 0:\n",
    "        # Evaluate policy training performance\n",
    "        x, y = extract_xy(log_dir)\n",
    "        if x > 0:\n",
    "            mean_reward = y\n",
    "            clear_output(wait=True)\n",
    "            # use display(f) if you encounter performance issues\n",
    "            print(x, 'timesteps')\n",
    "            print(\"Best mean reward: {:.2f} - Last mean reward per episode: {:.2f}\". \\\n",
    "                  format(best_mean_reward, mean_reward))\n",
    "            \n",
    "            # New best model, you could save the agent here\n",
    "            if mean_reward > best_mean_reward:\n",
    "                best_mean_reward = mean_reward\n",
    "                # Example for saving best model\n",
    "                print(\"Saving new best model\")\n",
    "                _locals['self'].save(log_dir + 'best_model.pkl')\n",
    "    n_steps += 1\n",
    "    return True"
   ]
  },
  {
   "cell_type": "markdown",
   "metadata": {},
   "source": [
    "#### Step 2: Set up environment "
   ]
  },
  {
   "cell_type": "code",
   "execution_count": 4,
   "metadata": {},
   "outputs": [],
   "source": [
    "env_id = \"HumanoidBulletEnv-v0\"\n",
    "num_cpu = 8  # Number of processes to use\n",
    "# Create the vectorized environment\n",
    "\n",
    "# Create log dir\n",
    "\n",
    "os.makedirs(log_dir, exist_ok=True)\n",
    "\n",
    "env = SubprocVecEnv([make_env(env_id, i) for i in range(num_cpu)], start_method = 'fork')"
   ]
  },
  {
   "cell_type": "markdown",
   "metadata": {},
   "source": [
    "#### Step 3: Define the Model"
   ]
  },
  {
   "cell_type": "code",
   "execution_count": 5,
   "metadata": {},
   "outputs": [],
   "source": [
    "# default policy network: 2 layer 64-neuron network for both value vf and action pi\n",
    "# policy_kwargs = dict(act_fun=tf.nn.tanh, net_arch=[dict(vf=[64,64], pi=[64,64])])\n",
    "\n",
    "# modified policy network: without bottleneck\n",
    "# policy_kwargs = dict(act_fun=tf.nn.relu, net_arch=[dict(vf=[256,256,256], pi=[256,256,256])])\n",
    "# policy_kwargs = dict(act_fun=tf.nn.relu, net_arch=[dict(vf=[256,256,256], pi=[256,256,256,8,256])])\n",
    "\n",
    "# modified policy network: with bottleneck\n",
    "policy_kwargs = dict(act_fun=tf.nn.relu, net_arch=[dict(vf=[256,256,256], pi=[256,256,256,256])])\n",
    "\n",
    "###############################################################################################################\n",
    "\n",
    "def learning_rate(frac):\n",
    "    return 1.0e-4*(np.exp(6*(frac-1)))\n",
    "\n",
    "model = PPO2(MlpPolicy, env, verbose=0, policy_kwargs=policy_kwargs, \n",
    "             noptepochs=15, n_steps=512, learning_rate=learning_rate)"
   ]
  },
  {
   "cell_type": "code",
   "execution_count": 6,
   "metadata": {},
   "outputs": [
    {
     "data": {
      "text/plain": [
       "[<tf.Variable 'model/pi_fc0/w:0' shape=(44, 256) dtype=float32_ref>,\n",
       " <tf.Variable 'model/pi_fc0/b:0' shape=(256,) dtype=float32_ref>,\n",
       " <tf.Variable 'model/vf_fc0/w:0' shape=(44, 256) dtype=float32_ref>,\n",
       " <tf.Variable 'model/vf_fc0/b:0' shape=(256,) dtype=float32_ref>,\n",
       " <tf.Variable 'model/pi_fc1/w:0' shape=(256, 256) dtype=float32_ref>,\n",
       " <tf.Variable 'model/pi_fc1/b:0' shape=(256,) dtype=float32_ref>,\n",
       " <tf.Variable 'model/vf_fc1/w:0' shape=(256, 256) dtype=float32_ref>,\n",
       " <tf.Variable 'model/vf_fc1/b:0' shape=(256,) dtype=float32_ref>,\n",
       " <tf.Variable 'model/pi_fc2/w:0' shape=(256, 256) dtype=float32_ref>,\n",
       " <tf.Variable 'model/pi_fc2/b:0' shape=(256,) dtype=float32_ref>,\n",
       " <tf.Variable 'model/vf_fc2/w:0' shape=(256, 256) dtype=float32_ref>,\n",
       " <tf.Variable 'model/vf_fc2/b:0' shape=(256,) dtype=float32_ref>,\n",
       " <tf.Variable 'model/pi_fc3/w:0' shape=(256, 256) dtype=float32_ref>,\n",
       " <tf.Variable 'model/pi_fc3/b:0' shape=(256,) dtype=float32_ref>,\n",
       " <tf.Variable 'model/vf/w:0' shape=(256, 1) dtype=float32_ref>,\n",
       " <tf.Variable 'model/vf/b:0' shape=(1,) dtype=float32_ref>,\n",
       " <tf.Variable 'model/pi/w:0' shape=(256, 17) dtype=float32_ref>,\n",
       " <tf.Variable 'model/pi/b:0' shape=(17,) dtype=float32_ref>,\n",
       " <tf.Variable 'model/pi/logstd:0' shape=(1, 17) dtype=float32_ref>,\n",
       " <tf.Variable 'model/q/w:0' shape=(256, 17) dtype=float32_ref>,\n",
       " <tf.Variable 'model/q/b:0' shape=(17,) dtype=float32_ref>]"
      ]
     },
     "execution_count": 6,
     "metadata": {},
     "output_type": "execute_result"
    }
   ],
   "source": [
    "# display network information here\n",
    "model.get_parameter_list()"
   ]
  },
  {
   "cell_type": "code",
   "execution_count": 27,
   "metadata": {},
   "outputs": [
    {
     "data": {
      "text/plain": [
       "array([ 0.01837003,  0.01667255,  0.0185922 , -0.00522721, -0.00571536,\n",
       "        0.00619774,  0.00116917,  0.0148859 ,  0.020814  ,  0.00850734,\n",
       "        0.01218347,  0.00572681,  0.0285808 ,  0.00740609,  0.00212689,\n",
       "        0.02065461,  0.02331659,  0.00102989,  0.00200971,  0.01421432,\n",
       "        0.02607763,  0.00626727, -0.01078121,  0.0276042 ,  0.00783089,\n",
       "        0.01789778,  0.02356929,  0.02208541,  0.00131319,  0.0129709 ,\n",
       "        0.0124737 ,  0.02067362,  0.02698545,  0.03120698,  0.00254492,\n",
       "        0.01474252, -0.00500937, -0.01370451,  0.01728063,  0.01361042,\n",
       "       -0.00373221, -0.01025863,  0.0086777 , -0.00865908,  0.02341103,\n",
       "        0.00834012,  0.02015799,  0.03426618, -0.00113818,  0.01222675,\n",
       "        0.01342892,  0.02806729,  0.01662763,  0.00178044, -0.0026175 ,\n",
       "        0.01924159,  0.00871076,  0.02650312,  0.00033043,  0.00468089,\n",
       "        0.01198027, -0.00680539,  0.03257947,  0.0208294 ,  0.02107684,\n",
       "        0.01943783,  0.01472674,  0.02599429, -0.00845205,  0.0095368 ,\n",
       "        0.01186881, -0.00440147,  0.00945181,  0.00444882,  0.00899342,\n",
       "        0.00591206, -0.00827972,  0.01765201,  0.01035104,  0.00045659,\n",
       "        0.02315685,  0.00156894,  0.00546773,  0.01763338,  0.01111548,\n",
       "        0.00444397,  0.00728972,  0.00814359,  0.01031572,  0.01552944,\n",
       "        0.01799855,  0.01848169, -0.00030435,  0.02719532,  0.03187443,\n",
       "        0.01416085,  0.0112605 , -0.0054579 ,  0.02009241,  0.00937781,\n",
       "        0.01595266,  0.01128964,  0.02038797,  0.00535561,  0.02054702,\n",
       "        0.0254149 ,  0.00572707,  0.00096809, -0.00011798,  0.00466882,\n",
       "        0.02914665,  0.01499323,  0.00628976,  0.01892454,  0.0067639 ,\n",
       "       -0.00502622,  0.00134975,  0.00605897,  0.01419652,  0.01551629,\n",
       "        0.03058131,  0.01149938,  0.02750686,  0.01951987,  0.00553227,\n",
       "        0.01372837,  0.00358584,  0.00073721,  0.0236728 , -0.00599259,\n",
       "        0.0338843 ,  0.02001286,  0.00883041,  0.01779514,  0.00439378,\n",
       "        0.00967276,  0.00181585, -0.00057325,  0.02338089, -0.00051752,\n",
       "        0.0060981 ,  0.02158025,  0.02101808,  0.01688476,  0.02653928,\n",
       "        0.02251569,  0.02202254,  0.0075428 , -0.00406503,  0.01099429,\n",
       "        0.01837892,  0.01614683,  0.00315912,  0.02974423,  0.02047366,\n",
       "        0.00946364,  0.02441019,  0.0282861 ,  0.01849071,  0.01748638,\n",
       "        0.00089384, -0.01896413, -0.00924534,  0.01411846,  0.01022463,\n",
       "        0.02321762,  0.01819848,  0.01788195,  0.01828401,  0.00444753,\n",
       "        0.00377024,  0.02362286,  0.03555493,  0.01770844, -0.00870978,\n",
       "        0.02053867,  0.00959689,  0.01403978, -0.00021294, -0.00089292,\n",
       "        0.01395999,  0.02499855,  0.01193048,  0.01019453,  0.02373872,\n",
       "       -0.001601  ,  0.00091891,  0.01959165,  0.00950889,  0.00940923,\n",
       "        0.01268606,  0.0243125 , -0.00132591,  0.02248614,  0.01116911,\n",
       "        0.01370744,  0.00111438,  0.00579169,  0.01265289,  0.00267697,\n",
       "        0.02821513, -0.00931068,  0.00812146,  0.00397375,  0.00469917,\n",
       "        0.01532914,  0.00658517,  0.00204855, -0.00593924,  0.02716697,\n",
       "       -0.0015629 ,  0.00371768,  0.01916943,  0.00653481,  0.02405012,\n",
       "       -0.02773365, -0.01056626,  0.01391262,  0.02028749,  0.02171042,\n",
       "        0.01342434,  0.00948931, -0.00099821, -0.00037939,  0.00268885,\n",
       "        0.0172528 , -0.00763722,  0.01427006,  0.02069551,  0.00310405,\n",
       "        0.01012149,  0.01259745,  0.02240573,  0.00505996,  0.00572774,\n",
       "        0.00558609,  0.00772833, -0.00092396,  0.01120031,  0.00692046,\n",
       "        0.01487549,  0.00446727,  0.00109365, -0.00508113, -0.00729183,\n",
       "        0.04402363,  0.01448912,  0.0132021 ,  0.02132124,  0.00940131,\n",
       "        0.01759397,  0.00698113,  0.02871671,  0.02345729,  0.00777496,\n",
       "        0.02539962], dtype=float32)"
      ]
     },
     "execution_count": 27,
     "metadata": {},
     "output_type": "execute_result"
    }
   ],
   "source": [
    "model.get_parameters()[\"model/pi_fc2/b:0\"]"
   ]
  },
  {
   "cell_type": "markdown",
   "metadata": {},
   "source": [
    "#### Step 4: Train the agent"
   ]
  },
  {
   "cell_type": "code",
   "execution_count": 21,
   "metadata": {},
   "outputs": [],
   "source": [
    "# load existing models\n",
    "# model.load_parameters('PPO2_humanoid', exact_match=False)\n",
    "model.load_parameters(log_dir+'best_model.pkl', exact_match=True)"
   ]
  },
  {
   "cell_type": "code",
   "execution_count": null,
   "metadata": {},
   "outputs": [],
   "source": [
    "model.learn(total_timesteps=40000000, callback=callback)\n",
    "\n",
    "# saves the agent as a .pkl file\n",
    "model.save(log_dir+'latest_model') "
   ]
  },
  {
   "cell_type": "markdown",
   "metadata": {},
   "source": [
    "#### Step 5: Plot the results"
   ]
  },
  {
   "cell_type": "code",
   "execution_count": 3,
   "metadata": {},
   "outputs": [],
   "source": [
    "def moving_average(values, window):\n",
    "    \"\"\"\n",
    "    Smooth values by doing a moving average\n",
    "    :param values: (numpy array)\n",
    "    :param window: (int)\n",
    "    :return: (numpy array)\n",
    "    \"\"\"\n",
    "    weights = np.repeat(1.0, window) / window\n",
    "    return np.convolve(values, weights, 'valid')\n",
    "\n",
    "\n",
    "def plot_results(log_folder, title='Learning Curve', instances=1, same_plot=False):\n",
    "    \"\"\"\n",
    "    plot the results\n",
    "\n",
    "    :param log_folder: (str) the save location of the results to plot\n",
    "    :param title: (str) the title of the task to plot\n",
    "    :instances: (int) the number of instances to average\n",
    "    \"\"\"\n",
    "    x, y = ts2xy(load_results(log_folder+'/env_0'), 'timesteps')\n",
    "\n",
    "    if instances > 1:\n",
    "        for i in range(1,instances):\n",
    "            _, y_tmp = ts2xy(load_results(log_folder+'/env_'+str(i)), 'timesteps')\n",
    "            if len(y) > len(y_tmp):\n",
    "                y = y[:len(y_tmp)] + y_tmp\n",
    "            else:\n",
    "                y = y + y_tmp[:len(y)]\n",
    "        y = y/instances\n",
    "    \n",
    "    y = moving_average(y, window=30) # change window value to change level of smoothness\n",
    "    # Truncate x\n",
    "    x = x[len(x) - len(y):]\n",
    "    fig = plt.figure(title)\n",
    "    plt.plot(x, y)\n",
    "    plt.xlabel('Number of Timesteps')\n",
    "    plt.ylabel('Rewards')\n",
    "    plt.title(title + \" Smoothed\")\n",
    "    if same_plot is False:\n",
    "        plt.show()"
   ]
  },
  {
   "cell_type": "code",
   "execution_count": 12,
   "metadata": {},
   "outputs": [
    {
     "data": {
      "image/png": "[encoded data removed]",
      "text/plain": [
       "<Figure size 432x288 with 1 Axes>"
      ]
     },
     "metadata": {
      "needs_background": "light"
     },
     "output_type": "display_data"
    }
   ],
   "source": [
    "plot_results(log_dir)"
   ]
  },
  {
   "cell_type": "markdown",
   "metadata": {},
   "source": [
    "#### Step 6: Render the results"
   ]
  },
  {
   "cell_type": "code",
   "execution_count": 5,
   "metadata": {},
   "outputs": [],
   "source": [
    "# env_v = gym.make('HumanoidBulletEnv-v0', render=\"True\")\n",
    "obs = env_v.reset()\n",
    "for i in range(3000):\n",
    "    # actions, _states = model.predict(obs)\n",
    "    actions = env_v.action_space.sample()\n",
    "    obs, rewards, dones, info = env_v.step(actions)"
   ]
  },
  {
   "cell_type": "markdown",
   "metadata": {},
   "source": [
    "# Extra Results"
   ]
  },
  {
   "cell_type": "markdown",
   "metadata": {},
   "source": [
    "## model rendering"
   ]
  },
  {
   "cell_type": "code",
   "execution_count": 9,
   "metadata": {},
   "outputs": [],
   "source": [
    "env_v = gym.make('HumanoidBulletEnv-v0', render=\"True\")\n",
    "model_v = PPO2.load(archive_dir + 'RL 256-256-256-256/best_model.pkl')\n",
    "obs = env_v.reset()\n",
    "for i in range(1000):\n",
    "    actions, _states = model_v.predict(obs)\n",
    "    obs, rewards, dones, info = env_v.step(actions)"
   ]
  },
  {
   "cell_type": "markdown",
   "metadata": {},
   "source": [
    "## Reward progression comparison"
   ]
  },
  {
   "cell_type": "code",
   "execution_count": 6,
   "metadata": {},
   "outputs": [
    {
     "data": {
      "text/plain": [
       "Text(0.5, 1.0, 'N/A')"
      ]
     },
     "execution_count": 6,
     "metadata": {},
     "output_type": "execute_result"
    },
    {
     "data": {
      "image/png": "[encoded data removed]",
      "text/plain": [
       "<Figure size 432x288 with 1 Axes>"
      ]
     },
     "metadata": {
      "needs_background": "light"
     },
     "output_type": "display_data"
    }
   ],
   "source": [
    "plot_results(archive_dir+'RL 256-256-256-256', instances=8, same_plot=True)\n",
    "plt.legend(['256-256-256-256'])\n",
    "plt.title('N/A')"
   ]
  },
  {
   "cell_type": "code",
   "execution_count": null,
   "metadata": {},
   "outputs": [],
   "source": []
  }
 ],
 "metadata": {
  "kernelspec": {
   "display_name": "Python 3",
   "language": "python",
   "name": "python3"
  },
  "language_info": {
   "codemirror_mode": {
    "name": "ipython",
    "version": 3
   },
   "file_extension": ".py",
   "mimetype": "text/x-python",
   "name": "python",
   "nbconvert_exporter": "python",
   "pygments_lexer": "ipython3",
   "version": "3.9.5"
  }
 },
 "nbformat": 4,
 "nbformat_minor": 2
}
