{
 "cells": [
  {
   "cell_type": "code",
   "execution_count": 1,
   "metadata": {},
   "outputs": [],
   "source": [
    "import warnings\n",
    "warnings.filterwarnings('ignore')\n",
    "\n",
    "import os\n",
    "import pickle\n",
    "\n",
    "import gym\n",
    "import pybullet_envs\n",
    "import numpy as np\n",
    "import matplotlib.pyplot as plt\n",
    "import tensorflow as tf\n",
    "\n",
    "from IPython.display import clear_output, display\n",
    "\n",
    "from stable_baselines.a2c.utils import ortho_init\n",
    "from stable_baselines.common.policies import MlpPolicy, ActorCriticPolicy\n",
    "from stable_baselines.common.vec_env import DummyVecEnv, SubprocVecEnv\n",
    "from stable_baselines.common import set_global_seeds\n",
    "from stable_baselines import PPO2, GAIL\n",
    "from stable_baselines.bench import Monitor\n",
    "from stable_baselines.results_plotter import load_results, ts2xy\n",
    "from stable_baselines.gail import generate_expert_traj, ExpertDataset"
   ]
  },
  {
   "cell_type": "code",
   "execution_count": 2,
   "metadata": {},
   "outputs": [],
   "source": [
    "env_id = \"HumanoidBulletEnv-v0\"\n",
    "expert_folder = \"tmp/gym/humanoid_pybullet/behaviour_cloning/\"\n",
    "expert_path = expert_folder + \"expert_model.pkl\"\n",
    "save_path = expert_folder + \"expert_model_traj.npz\" # for expert trajectory\n",
    "save_path_2 = expert_folder + \"expert_model_samp.npz\" # for expert obs random sampling\n",
    "log_dir = expert_folder + \"log/\""
   ]
  },
  {
   "cell_type": "markdown",
   "metadata": {},
   "source": [
    "# Behaviour Cloning\n",
    "- Note: Behaviour cloning in a simple supervized manner works fine with discrete control. For a continuous control task, this will not work well due to the sensitivity in the task. In a humanoid-walking situation, a slight mismatch of the expert signal and the pretrained signal can cause the agent to go away from the optimal trajectories which the pretrained agent may not encounter before. Thus, a sampling of the full input range from the expert network is required to completely \"copy\" the network information over to the new network.\n",
    "\n",
    "# Trajectory Extraction \n",
    "\n",
    "#### Extract Samples - Expert Trajectory only"
   ]
  },
  {
   "cell_type": "code",
   "execution_count": 3,
   "metadata": {},
   "outputs": [
    {
     "name": "stdout",
     "output_type": "stream",
     "text": [
      "trajectory already exists. Extraction will not be performed\n"
     ]
    }
   ],
   "source": [
    "if os.path.exists(save_path) is False:\n",
    "    env = gym.make(env_id)\n",
    "    env._max_episode_steps=100 # only extract trajectory at the beginning\n",
    "    env = DummyVecEnv([lambda: env])\n",
    "    model = PPO2.load(expert_path, env=env)\n",
    "    generate_expert_traj(model, save_path=save_path, env=env, n_episodes=3000)\n",
    "else:\n",
    "    print('trajectory already exists. Extraction will not be performed')"
   ]
  },
  {
   "cell_type": "code",
   "execution_count": 4,
   "metadata": {},
   "outputs": [
    {
     "name": "stdout",
     "output_type": "stream",
     "text": [
      "actions (294528, 17)\n",
      "obs (294528, 44)\n",
      "rewards (294528, 1)\n",
      "episode_returns (3000,)\n",
      "episode_starts (294528,)\n",
      "Total trajectories: -1\n",
      "Total transitions: 294528\n",
      "Average returns: 86.87152222510178\n",
      "Std for returns: 26.723277095651756\n"
     ]
    }
   ],
   "source": [
    "dataset = ExpertDataset(expert_path=save_path, batch_size=512, train_fraction=0.9)"
   ]
  },
  {
   "cell_type": "code",
   "execution_count": 5,
   "metadata": {},
   "outputs": [],
   "source": [
    "# # sample input & output\n",
    "# dataset.init_dataloader(1)\n",
    "# dataset.get_next_batch()"
   ]
  },
  {
   "cell_type": "markdown",
   "metadata": {},
   "source": [
    "#### Extract Samples - Full input Range"
   ]
  },
  {
   "cell_type": "code",
   "execution_count": 6,
   "metadata": {},
   "outputs": [
    {
     "name": "stdout",
     "output_type": "stream",
     "text": [
      "sample file already exists. Extraction will not be performed\n"
     ]
    }
   ],
   "source": [
    "if os.path.exists(save_path_2) is False:\n",
    "    # obtain empirical observation limit\n",
    "    env = DummyVecEnv([lambda: gym.make(env_id)])\n",
    "    model = PPO2.load(expert_path, env=env)\n",
    "\n",
    "    obs = env.reset()\n",
    "    obs_shape = env.observation_space.shape\n",
    "    act_shape = env.action_space.shape\n",
    "\n",
    "    obs_max = np.zeros(obs_shape)\n",
    "    obs_min = np.zeros(obs_shape)\n",
    "    for i in range(10000):\n",
    "        obs, _, _, _ = env.step([env.action_space.sample()]) # add [] to match with vectorized environment\n",
    "        obs_max = np.maximum(obs, obs_max)\n",
    "        obs_min = np.minimum(obs, obs_min)\n",
    "        \n",
    "    # Generate Sampling Data\n",
    "    data_num = 300000\n",
    "    obs_data = np.zeros([data_num, obs_shape[0]])\n",
    "    act_data = np.zeros([data_num, act_shape[0]])\n",
    "\n",
    "    for i in range(data_num):\n",
    "        obs_tmp = np.random.uniform(obs_min,obs_max)\n",
    "        obs_data[i,:] = obs_tmp\n",
    "        act_data[i,:],_ = model.predict(obs_tmp)\n",
    "\n",
    "    numpy_dict = {\n",
    "            'actions': act_data,\n",
    "            'obs': obs_data,\n",
    "            'rewards': np.zeros([data_num,1]), # dummy data\n",
    "            'episode_returns': np.zeros(1000), # dummy data\n",
    "            'episode_starts': np.zeros(data_num)} # dummy data\n",
    "\n",
    "    if save_path_2 is not None:\n",
    "        np.savez(save_path_2, **numpy_dict)        \n",
    "else:\n",
    "    print('sample file already exists. Extraction will not be performed')"
   ]
  },
  {
   "cell_type": "code",
   "execution_count": 7,
   "metadata": {},
   "outputs": [
    {
     "name": "stdout",
     "output_type": "stream",
     "text": [
      "actions (300000, 17)\n",
      "obs (300000, 44)\n",
      "rewards (300000, 1)\n",
      "episode_returns (1000,)\n",
      "episode_starts (300000,)\n",
      "Total trajectories: -1\n",
      "Total transitions: 300000\n",
      "Average returns: 0.0\n",
      "Std for returns: 0.0\n"
     ]
    }
   ],
   "source": [
    "dataset_2 = ExpertDataset(expert_path=save_path_2, batch_size=512, train_fraction=0.9)"
   ]
  },
  {
   "cell_type": "markdown",
   "metadata": {},
   "source": [
    "# Pretraining"
   ]
  },
  {
   "cell_type": "code",
   "execution_count": 8,
   "metadata": {},
   "outputs": [],
   "source": [
    "###### env_id = \"RoboschoolHumanoid-v1\"\n",
    "env = gym.make(env_id)\n",
    "env = DummyVecEnv([lambda: env])"
   ]
  },
  {
   "cell_type": "markdown",
   "metadata": {},
   "source": [
    "#### Pretrain using Behaviour Cloning & GAIL"
   ]
  },
  {
   "cell_type": "code",
   "execution_count": 9,
   "metadata": {},
   "outputs": [
    {
     "name": "stdout",
     "output_type": "stream",
     "text": [
      "WARNING:tensorflow:From /Users/jiachengweng/opt/anaconda3/envs/pybullet/lib/python3.6/site-packages/stable_baselines/common/tf_util.py:58: The name tf.ConfigProto is deprecated. Please use tf.compat.v1.ConfigProto instead.\n",
      "\n",
      "WARNING:tensorflow:From /Users/jiachengweng/opt/anaconda3/envs/pybullet/lib/python3.6/site-packages/stable_baselines/common/tf_util.py:67: The name tf.Session is deprecated. Please use tf.compat.v1.Session instead.\n",
      "\n",
      "WARNING:tensorflow:From /Users/jiachengweng/opt/anaconda3/envs/pybullet/lib/python3.6/site-packages/stable_baselines/gail/adversary.py:68: The name tf.placeholder is deprecated. Please use tf.compat.v1.placeholder instead.\n",
      "\n",
      "WARNING:tensorflow:From /Users/jiachengweng/opt/anaconda3/envs/pybullet/lib/python3.6/site-packages/stable_baselines/gail/adversary.py:114: The name tf.variable_scope is deprecated. Please use tf.compat.v1.variable_scope instead.\n",
      "\n",
      "WARNING:tensorflow:From /Users/jiachengweng/opt/anaconda3/envs/pybullet/lib/python3.6/site-packages/stable_baselines/common/mpi_running_mean_std.py:17: The name tf.get_variable is deprecated. Please use tf.compat.v1.get_variable instead.\n",
      "\n",
      "WARNING:tensorflow:Entity <bound method Dense.call of <tensorflow.python.layers.core.Dense object at 0x1c59eea630>> could not be transformed and will be executed as-is. Please report this to the AutgoGraph team. When filing the bug, set the verbosity to 10 (on Linux, `export AUTOGRAPH_VERBOSITY=10`) and attach the full output. Cause: converting <bound method Dense.call of <tensorflow.python.layers.core.Dense object at 0x1c59eea630>>: AssertionError: Bad argument number for Name: 3, expecting 4\n",
      "WARNING: Entity <bound method Dense.call of <tensorflow.python.layers.core.Dense object at 0x1c59eea630>> could not be transformed and will be executed as-is. Please report this to the AutgoGraph team. When filing the bug, set the verbosity to 10 (on Linux, `export AUTOGRAPH_VERBOSITY=10`) and attach the full output. Cause: converting <bound method Dense.call of <tensorflow.python.layers.core.Dense object at 0x1c59eea630>>: AssertionError: Bad argument number for Name: 3, expecting 4\n",
      "WARNING:tensorflow:Entity <bound method Dense.call of <tensorflow.python.layers.core.Dense object at 0x1c59eea780>> could not be transformed and will be executed as-is. Please report this to the AutgoGraph team. When filing the bug, set the verbosity to 10 (on Linux, `export AUTOGRAPH_VERBOSITY=10`) and attach the full output. Cause: converting <bound method Dense.call of <tensorflow.python.layers.core.Dense object at 0x1c59eea780>>: AssertionError: Bad argument number for Name: 3, expecting 4\n",
      "WARNING: Entity <bound method Dense.call of <tensorflow.python.layers.core.Dense object at 0x1c59eea780>> could not be transformed and will be executed as-is. Please report this to the AutgoGraph team. When filing the bug, set the verbosity to 10 (on Linux, `export AUTOGRAPH_VERBOSITY=10`) and attach the full output. Cause: converting <bound method Dense.call of <tensorflow.python.layers.core.Dense object at 0x1c59eea780>>: AssertionError: Bad argument number for Name: 3, expecting 4\n",
      "WARNING:tensorflow:Entity <bound method Dense.call of <tensorflow.python.layers.core.Dense object at 0x1c59ec0f60>> could not be transformed and will be executed as-is. Please report this to the AutgoGraph team. When filing the bug, set the verbosity to 10 (on Linux, `export AUTOGRAPH_VERBOSITY=10`) and attach the full output. Cause: converting <bound method Dense.call of <tensorflow.python.layers.core.Dense object at 0x1c59ec0f60>>: AssertionError: Bad argument number for Name: 3, expecting 4\n",
      "WARNING: Entity <bound method Dense.call of <tensorflow.python.layers.core.Dense object at 0x1c59ec0f60>> could not be transformed and will be executed as-is. Please report this to the AutgoGraph team. When filing the bug, set the verbosity to 10 (on Linux, `export AUTOGRAPH_VERBOSITY=10`) and attach the full output. Cause: converting <bound method Dense.call of <tensorflow.python.layers.core.Dense object at 0x1c59ec0f60>>: AssertionError: Bad argument number for Name: 3, expecting 4\n",
      "WARNING:tensorflow:Entity <bound method Dense.call of <tensorflow.python.layers.core.Dense object at 0x1c59ec0ac8>> could not be transformed and will be executed as-is. Please report this to the AutgoGraph team. When filing the bug, set the verbosity to 10 (on Linux, `export AUTOGRAPH_VERBOSITY=10`) and attach the full output. Cause: converting <bound method Dense.call of <tensorflow.python.layers.core.Dense object at 0x1c59ec0ac8>>: AssertionError: Bad argument number for Name: 3, expecting 4\n",
      "WARNING: Entity <bound method Dense.call of <tensorflow.python.layers.core.Dense object at 0x1c59ec0ac8>> could not be transformed and will be executed as-is. Please report this to the AutgoGraph team. When filing the bug, set the verbosity to 10 (on Linux, `export AUTOGRAPH_VERBOSITY=10`) and attach the full output. Cause: converting <bound method Dense.call of <tensorflow.python.layers.core.Dense object at 0x1c59ec0ac8>>: AssertionError: Bad argument number for Name: 3, expecting 4\n",
      "WARNING:tensorflow:Entity <bound method Dense.call of <tensorflow.python.layers.core.Dense object at 0x1c58b111d0>> could not be transformed and will be executed as-is. Please report this to the AutgoGraph team. When filing the bug, set the verbosity to 10 (on Linux, `export AUTOGRAPH_VERBOSITY=10`) and attach the full output. Cause: converting <bound method Dense.call of <tensorflow.python.layers.core.Dense object at 0x1c58b111d0>>: AssertionError: Bad argument number for Name: 3, expecting 4\n",
      "WARNING: Entity <bound method Dense.call of <tensorflow.python.layers.core.Dense object at 0x1c58b111d0>> could not be transformed and will be executed as-is. Please report this to the AutgoGraph team. When filing the bug, set the verbosity to 10 (on Linux, `export AUTOGRAPH_VERBOSITY=10`) and attach the full output. Cause: converting <bound method Dense.call of <tensorflow.python.layers.core.Dense object at 0x1c58b111d0>>: AssertionError: Bad argument number for Name: 3, expecting 4\n",
      "WARNING:tensorflow:Entity <bound method Dense.call of <tensorflow.python.layers.core.Dense object at 0x1c59ec0ac8>> could not be transformed and will be executed as-is. Please report this to the AutgoGraph team. When filing the bug, set the verbosity to 10 (on Linux, `export AUTOGRAPH_VERBOSITY=10`) and attach the full output. Cause: converting <bound method Dense.call of <tensorflow.python.layers.core.Dense object at 0x1c59ec0ac8>>: AssertionError: Bad argument number for Name: 3, expecting 4\n",
      "WARNING: Entity <bound method Dense.call of <tensorflow.python.layers.core.Dense object at 0x1c59ec0ac8>> could not be transformed and will be executed as-is. Please report this to the AutgoGraph team. When filing the bug, set the verbosity to 10 (on Linux, `export AUTOGRAPH_VERBOSITY=10`) and attach the full output. Cause: converting <bound method Dense.call of <tensorflow.python.layers.core.Dense object at 0x1c59ec0ac8>>: AssertionError: Bad argument number for Name: 3, expecting 4\n",
      "WARNING:tensorflow:From /Users/jiachengweng/opt/anaconda3/envs/pybullet/lib/python3.6/site-packages/tensorflow/python/ops/nn_impl.py:180: add_dispatch_support.<locals>.wrapper (from tensorflow.python.ops.array_ops) is deprecated and will be removed in a future version.\n",
      "Instructions for updating:\n",
      "Use tf.where in 2.0, which has the same broadcast rule as np.where\n",
      "WARNING:tensorflow:From /Users/jiachengweng/opt/anaconda3/envs/pybullet/lib/python3.6/site-packages/stable_baselines/common/policies.py:560: flatten (from tensorflow.python.layers.core) is deprecated and will be removed in a future version.\n",
      "Instructions for updating:\n",
      "Use keras.layers.flatten instead.\n",
      "WARNING:tensorflow:Entity <bound method Flatten.call of <tensorflow.python.layers.core.Flatten object at 0x1c565071d0>> could not be transformed and will be executed as-is. Please report this to the AutgoGraph team. When filing the bug, set the verbosity to 10 (on Linux, `export AUTOGRAPH_VERBOSITY=10`) and attach the full output. Cause: converting <bound method Flatten.call of <tensorflow.python.layers.core.Flatten object at 0x1c565071d0>>: AttributeError: module 'gast' has no attribute 'Num'\n"
     ]
    },
    {
     "name": "stdout",
     "output_type": "stream",
     "text": [
      "WARNING: Entity <bound method Flatten.call of <tensorflow.python.layers.core.Flatten object at 0x1c565071d0>> could not be transformed and will be executed as-is. Please report this to the AutgoGraph team. When filing the bug, set the verbosity to 10 (on Linux, `export AUTOGRAPH_VERBOSITY=10`) and attach the full output. Cause: converting <bound method Flatten.call of <tensorflow.python.layers.core.Flatten object at 0x1c565071d0>>: AttributeError: module 'gast' has no attribute 'Num'\n",
      "WARNING:tensorflow:Entity <bound method Flatten.call of <tensorflow.python.layers.core.Flatten object at 0x1c5835bc18>> could not be transformed and will be executed as-is. Please report this to the AutgoGraph team. When filing the bug, set the verbosity to 10 (on Linux, `export AUTOGRAPH_VERBOSITY=10`) and attach the full output. Cause: converting <bound method Flatten.call of <tensorflow.python.layers.core.Flatten object at 0x1c5835bc18>>: AttributeError: module 'gast' has no attribute 'Num'\n",
      "WARNING: Entity <bound method Flatten.call of <tensorflow.python.layers.core.Flatten object at 0x1c5835bc18>> could not be transformed and will be executed as-is. Please report this to the AutgoGraph team. When filing the bug, set the verbosity to 10 (on Linux, `export AUTOGRAPH_VERBOSITY=10`) and attach the full output. Cause: converting <bound method Flatten.call of <tensorflow.python.layers.core.Flatten object at 0x1c5835bc18>>: AttributeError: module 'gast' has no attribute 'Num'\n",
      "WARNING:tensorflow:From /Users/jiachengweng/opt/anaconda3/envs/pybullet/lib/python3.6/site-packages/stable_baselines/trpo_mpi/trpo_mpi.py:191: The name tf.summary.scalar is deprecated. Please use tf.compat.v1.summary.scalar instead.\n",
      "\n",
      "WARNING:tensorflow:From /Users/jiachengweng/opt/anaconda3/envs/pybullet/lib/python3.6/site-packages/stable_baselines/trpo_mpi/trpo_mpi.py:265: The name tf.summary.merge_all is deprecated. Please use tf.compat.v1.summary.merge_all instead.\n",
      "\n"
     ]
    }
   ],
   "source": [
    "policy_kwargs = dict(act_fun=tf.nn.relu, net_arch=[dict(vf=[256,256,256], pi=[256,256,256,8])])\n",
    "model = GAIL(MlpPolicy, env, dataset, verbose=1, policy_kwargs=policy_kwargs)"
   ]
  },
  {
   "cell_type": "code",
   "execution_count": null,
   "metadata": {
    "scrolled": true
   },
   "outputs": [
    {
     "name": "stdout",
     "output_type": "stream",
     "text": [
      "WARNING:tensorflow:From /Users/jiachengweng/opt/anaconda3/envs/pybullet/lib/python3.6/site-packages/stable_baselines/common/base_class.py:295: The name tf.train.AdamOptimizer is deprecated. Please use tf.compat.v1.train.AdamOptimizer instead.\n",
      "\n",
      "Pretraining with Behavior Cloning...\n"
     ]
    }
   ],
   "source": [
    "model.pretrain(dataset, n_epochs=100) #behaviour cloning"
   ]
  },
  {
   "cell_type": "code",
   "execution_count": null,
   "metadata": {},
   "outputs": [],
   "source": [
    "model.learn(total_timesteps=100000)"
   ]
  },
  {
   "cell_type": "code",
   "execution_count": 5,
   "metadata": {},
   "outputs": [
    {
     "name": "stdout",
     "output_type": "stream",
     "text": [
      "Loading a model without an environment, this model cannot be trained until it has a valid environment.\n"
     ]
    }
   ],
   "source": [
    "env_v = gym.make('HumanoidBulletEnv-v0', render=True)\n",
    "obs = env_v.reset()\n",
    "for i in range(500):\n",
    "    actions, _states = model.predict(obs)\n",
    "    obs, rewards, dones, info = env_v.step(actions)"
   ]
  },
  {
   "cell_type": "code",
   "execution_count": 13,
   "metadata": {},
   "outputs": [],
   "source": [
    "model.save(expert_folder+\"pretrained_model_GAIL\")\n",
    "del model"
   ]
  },
  {
   "cell_type": "code",
   "execution_count": 11,
   "metadata": {},
   "outputs": [
    {
     "name": "stdout",
     "output_type": "stream",
     "text": [
      "Loading a model without an environment, this model cannot be trained until it has a valid environment.\n"
     ]
    }
   ],
   "source": [
    "model = GAIL.load(expert_folder+\"pretrained_model_GAIL\")\n",
    "GAIL_param = model.get_parameters()\n",
    "\n",
    "with open(expert_folder+'pretrained_model_GAIL_param.pkl', 'wb') as fp:\n",
    "    pickle.dump(GAIL_param, fp, protocol=pickle.HIGHEST_PROTOCOL)\n",
    "\n",
    "del model"
   ]
  },
  {
   "cell_type": "markdown",
   "metadata": {},
   "source": [
    "# Fine Tuning"
   ]
  },
  {
   "cell_type": "code",
   "execution_count": 3,
   "metadata": {},
   "outputs": [],
   "source": [
    "os.makedirs(log_dir, exist_ok=True)\n",
    "\n",
    "# Set up Wrapper\n",
    "from gym import RewardWrapper\n",
    "\n",
    "class ModifyReward(RewardWrapper):\n",
    "    def __init__(self, env):\n",
    "        super(ModifyReward, self).__init__(env)\n",
    "\n",
    "    def reward(self, reward):\n",
    "        return reward\n",
    "    \n",
    "##########################################################################################\n",
    "# Set up multiprocessing\n",
    "def make_env(env_id, rank, seed=0):\n",
    "    \"\"\"\n",
    "    Utility function for multiprocessed env.\n",
    "    \n",
    "    :param env_id: (str) the environment ID\n",
    "    :param num_env: (int) the number of environment you wish to have in subprocesses \n",
    "    :param seed: (int) the inital seed for RNG\n",
    "    :param rank: (int) index of the subprocess\n",
    "    \"\"\"\n",
    "    \n",
    "    def _init():\n",
    "        env = ModifyReward(gym.make(env_id))\n",
    "        log_sub_dir = log_dir + '/env_{}'.format(str(rank))\n",
    "        os.makedirs(log_sub_dir, exist_ok=True)\n",
    "        env = Monitor(env, log_sub_dir, allow_early_resets=True)\n",
    "        env.seed(seed + rank)\n",
    "        return env\n",
    "    set_global_seeds(seed)\n",
    "    return _init\n",
    "\n",
    "##########################################################################################\n",
    "# Set up callback\n",
    "best_mean_reward, n_steps = -np.inf, 0\n",
    "\n",
    "def extract_xy(log_dir):\n",
    "    \"\"\"\n",
    "    extract the # time steps and avg reward\n",
    "    :param x: (int) # of time steps\n",
    "    :param y: (float) average rewards\n",
    "    \"\"\"\n",
    "    num_folder = 0\n",
    "    x = 0\n",
    "    y = []\n",
    "    for folder in os.listdir(log_dir):\n",
    "        if 'env' in folder:\n",
    "            x_tmp, y_tmp = ts2xy(load_results(log_dir+folder), 'timesteps')\n",
    "            if len(x_tmp) > 0:\n",
    "                y.extend(list(y_tmp[-10:]))\n",
    "                if x_tmp[-1] > x:\n",
    "                    x = x_tmp[-1]\n",
    "    y = sum(y)/len(y) if len(y) > 0 else -np.inf \n",
    "    return x, y\n",
    "\n",
    "def callback(_locals, _globals):\n",
    "    \"\"\"\n",
    "    Callback called at each step (for DQN an others) or after n steps (see ACER or PPO2)\n",
    "    :param _locals: (dict)\n",
    "    :param _globals: (dict)\n",
    "    \"\"\"\n",
    "    global n_steps, best_mean_reward\n",
    "    # Print stats every 2 calls\n",
    "    if (n_steps + 1) % 2 == 0:\n",
    "        # Evaluate policy training performance\n",
    "        x, y = extract_xy(log_dir)\n",
    "        if x > 0:\n",
    "            mean_reward = y\n",
    "            clear_output(wait=True)\n",
    "            # use display(f) if you encounter performance issues\n",
    "            print(x, 'timesteps')\n",
    "            print(\"Best mean reward: {:.2f} - Last mean reward per episode: {:.2f}\". \\\n",
    "                  format(best_mean_reward, mean_reward))\n",
    "            \n",
    "            # New best model, you could save the agent here\n",
    "            if mean_reward > best_mean_reward:\n",
    "                best_mean_reward = mean_reward\n",
    "                # Example for saving best model\n",
    "                print(\"Saving new best model\")\n",
    "                _locals['self'].save(log_dir + 'best_model.pkl')\n",
    "    n_steps += 1\n",
    "    return True"
   ]
  },
  {
   "cell_type": "code",
   "execution_count": 4,
   "metadata": {},
   "outputs": [],
   "source": [
    "env_id = \"HumanoidBulletEnv-v0\"\n",
    "num_cpu = 8  # Number of processes to use\n",
    "# Create the vectorized environment\n",
    "\n",
    "env = SubprocVecEnv([make_env(env_id, i) for i in range(num_cpu)], start_method = 'fork')"
   ]
  },
  {
   "cell_type": "code",
   "execution_count": 5,
   "metadata": {},
   "outputs": [],
   "source": [
    "def learning_rate(frac):\n",
    "    return 1.0e-4*(np.exp(6*(frac-1)))\n",
    "\n",
    "# modified policy network: with bottleneck\n",
    "policy_kwargs = dict(act_fun=tf.nn.relu, net_arch=[dict(vf=[256,256,256], pi=[256,256,256,8])])\n",
    "\n",
    "model = PPO2(MlpPolicy, env, verbose=0, policy_kwargs=policy_kwargs, \n",
    "             noptepochs=15, n_steps=512, learning_rate=learning_rate)"
   ]
  },
  {
   "cell_type": "code",
   "execution_count": 6,
   "metadata": {},
   "outputs": [],
   "source": [
    "# extract parameters from GAIL for PPO2\n",
    "with open(expert_folder+'pretrained_model_GAIL_param.pkl', 'rb') as fp:\n",
    "    GAIL_param = pickle.load(fp)\n",
    "\n",
    "model_paramlist = model.get_parameter_list()\n",
    "model_paramname = []\n",
    "for i in range(len(model_paramlist)):\n",
    "    model_paramname.append(model_paramlist[i].name)\n",
    "\n",
    "GAIL_param_extracted = {key:value for key,value in GAIL_param.items() if key in model_paramname}"
   ]
  },
  {
   "cell_type": "code",
   "execution_count": 7,
   "metadata": {},
   "outputs": [],
   "source": [
    "model.load_parameters(GAIL_param_extracted, exact_match=True)"
   ]
  },
  {
   "cell_type": "markdown",
   "metadata": {},
   "source": [
    "#### Step 4: Fine Tune the agent"
   ]
  },
  {
   "cell_type": "code",
   "execution_count": 8,
   "metadata": {},
   "outputs": [
    {
     "name": "stdout",
     "output_type": "stream",
     "text": [
      "4999158 timesteps\n",
      "Best mean reward: 1247.74 - Last mean reward per episode: 1086.29\n"
     ]
    }
   ],
   "source": [
    "model.learn(total_timesteps=40000000, callback=callback)\n",
    "\n",
    "# saves the agent as a .pkl file\n",
    "model.save(log_dir+'latest_trained_model') "
   ]
  },
  {
   "cell_type": "markdown",
   "metadata": {},
   "source": [
    "#### Step 5: Render the results"
   ]
  },
  {
   "cell_type": "code",
   "execution_count": 6,
   "metadata": {},
   "outputs": [],
   "source": [
    "model.load_parameters(log_dir+'best_model', exact_match=True)"
   ]
  },
  {
   "cell_type": "code",
   "execution_count": 15,
   "metadata": {},
   "outputs": [],
   "source": [
    "env_v = gym.make('HumanoidBulletEnv-v0', render=True)\n",
    "obs = env_v.reset()\n",
    "for i in range(2000):\n",
    "    actions, _states = model.predict(obs)\n",
    "    obs, rewards, dones, info = env_v.step(actions)\n",
    "    env_v.render()"
   ]
  },
  {
   "cell_type": "markdown",
   "metadata": {},
   "source": [
    "#### Step 6: Plot the results"
   ]
  },
  {
   "cell_type": "code",
   "execution_count": 11,
   "metadata": {},
   "outputs": [],
   "source": [
    "def moving_average(values, window):\n",
    "    \"\"\"\n",
    "    Smooth values by doing a moving average\n",
    "    :param values: (numpy array)\n",
    "    :param window: (int)\n",
    "    :return: (numpy array)\n",
    "    \"\"\"\n",
    "    weights = np.repeat(1.0, window) / window\n",
    "    return np.convolve(values, weights, 'valid')\n",
    "\n",
    "\n",
    "def plot_results(log_folder, title='Learning Curve', instances=1, same_plot=False):\n",
    "    \"\"\"\n",
    "    plot the results\n",
    "\n",
    "    :param log_folder: (str) the save location of the results to plot\n",
    "    :param title: (str) the title of the task to plot\n",
    "    :instances: (int) the number of instances to average\n",
    "    \"\"\"\n",
    "    x, y = ts2xy(load_results(log_folder+'/env_0'), 'timesteps')\n",
    "\n",
    "    if instances > 1:\n",
    "        for i in range(1,instances):\n",
    "            _, y_tmp = ts2xy(load_results(log_folder+'/env_'+str(i)), 'timesteps')\n",
    "            if len(y) > len(y_tmp):\n",
    "                y = y[:len(y_tmp)] + y_tmp\n",
    "            else:\n",
    "                y = y + y_tmp[:len(y)]\n",
    "        y = y/instances\n",
    "    \n",
    "    y = moving_average(y, window=50) # change window value to change level of smoothness\n",
    "    # Truncate x\n",
    "    x = x[len(x) - len(y):]\n",
    "    fig = plt.figure(title)\n",
    "    plt.plot(x, y)\n",
    "    plt.xlabel('Number of Timesteps')\n",
    "    plt.ylabel('Rewards')\n",
    "    plt.title(title + \" Smoothed\")\n",
    "    if same_plot is False:\n",
    "        plt.show()"
   ]
  },
  {
   "cell_type": "code",
   "execution_count": 14,
   "metadata": {},
   "outputs": [
    {
     "data": {
      "text/plain": [
       "<matplotlib.legend.Legend at 0x13d366e10>"
      ]
     },
     "execution_count": 14,
     "metadata": {},
     "output_type": "execute_result"
    },
    {
     "data": {
      "image/png": "[encoded data removed]",
      "text/plain": [
       "<Figure size 432x288 with 1 Axes>"
      ]
     },
     "metadata": {
      "needs_background": "light"
     },
     "output_type": "display_data"
    }
   ],
   "source": [
    "plot_results(\"tmp/gym/humanoid_pybullet/archive/RL 256-256-256-256\", instances=8, same_plot=True)\n",
    "plot_results(expert_folder+\"archive/BC+GAIL+RL 256-256-256-8\", instances=8, same_plot=True)\n",
    "plot_results(\"tmp/gym/humanoid/archive/14-relu 256-256-256-8 80m step 1e-4 exp decayed lr\", instances=8, same_plot=True)\n",
    "# plt.xlim(0,2500000)\n",
    "# plt.ylim(-100,1250)\n",
    "plt.legend(['256-256-256-256','256-256-256-8 Pretrain','256-256-256-8'])"
   ]
  },
  {
   "cell_type": "code",
   "execution_count": null,
   "metadata": {},
   "outputs": [],
   "source": []
  }
 ],
 "metadata": {
  "kernelspec": {
   "display_name": "Python 3",
   "language": "python",
   "name": "python3"
  },
  "language_info": {
   "codemirror_mode": {
    "name": "ipython",
    "version": 3
   },
   "file_extension": ".py",
   "mimetype": "text/x-python",
   "name": "python",
   "nbconvert_exporter": "python",
   "pygments_lexer": "ipython3",
   "version": "3.6.10"
  }
 },
 "nbformat": 4,
 "nbformat_minor": 2
}
